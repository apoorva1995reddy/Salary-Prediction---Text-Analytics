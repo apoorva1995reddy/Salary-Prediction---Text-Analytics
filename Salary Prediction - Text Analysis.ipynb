{
 "cells": [
  {
   "cell_type": "markdown",
   "metadata": {
    "collapsed": true
   },
   "source": [
    "# Salary Prediction from Job Description"
   ]
  },
  {
   "cell_type": "code",
   "execution_count": 1,
   "metadata": {},
   "outputs": [
    {
     "name": "stdout",
     "output_type": "stream",
     "text": [
      "Populating the interactive namespace from numpy and matplotlib\n"
     ]
    }
   ],
   "source": [
    "import os\n",
    "%pylab inline\n",
    "import re\n",
    "import pandas as pd\n",
    "from pandas import Series, DataFrame\n",
    "import nltk\n",
    "import string\n",
    "from nltk.tokenize import sent_tokenize, word_tokenize\n",
    "from nltk.corpus import stopwords\n",
    "from nltk.stem import WordNetLemmatizer\n",
    "import statsmodels.api as sm\n",
    "from patsy import dmatrices\n",
    "from scipy import stats\n",
    "import warnings\n",
    "warnings.filterwarnings('ignore')\n",
    "stop_words = set(stopwords.words('english'))"
   ]
  },
  {
   "cell_type": "code",
   "execution_count": 2,
   "metadata": {},
   "outputs": [
    {
     "data": {
      "text/html": [
       "<div>\n",
       "<style scoped>\n",
       "    .dataframe tbody tr th:only-of-type {\n",
       "        vertical-align: middle;\n",
       "    }\n",
       "\n",
       "    .dataframe tbody tr th {\n",
       "        vertical-align: top;\n",
       "    }\n",
       "\n",
       "    .dataframe thead th {\n",
       "        text-align: right;\n",
       "    }\n",
       "</style>\n",
       "<table border=\"1\" class=\"dataframe\">\n",
       "  <thead>\n",
       "    <tr style=\"text-align: right;\">\n",
       "      <th></th>\n",
       "      <th>Id</th>\n",
       "      <th>Title</th>\n",
       "      <th>FullDescription</th>\n",
       "      <th>LocationRaw</th>\n",
       "      <th>LocationNormalized</th>\n",
       "      <th>ContractType</th>\n",
       "      <th>ContractTime</th>\n",
       "      <th>Company</th>\n",
       "      <th>Category</th>\n",
       "      <th>SalaryRaw</th>\n",
       "      <th>SalaryNormalized</th>\n",
       "      <th>SourceName</th>\n",
       "    </tr>\n",
       "  </thead>\n",
       "  <tbody>\n",
       "    <tr>\n",
       "      <th>154523</th>\n",
       "      <td>71014022</td>\n",
       "      <td>Regulatory Policy, Energy Markets</td>\n",
       "      <td>US company launching in London for the first t...</td>\n",
       "      <td>London</td>\n",
       "      <td>London</td>\n",
       "      <td>full_time</td>\n",
       "      <td>permanent</td>\n",
       "      <td>G2 Legal LTD</td>\n",
       "      <td>Legal Jobs</td>\n",
       "      <td>From 75,000 to 100,000 per year</td>\n",
       "      <td>87500</td>\n",
       "      <td>TotallyLegal</td>\n",
       "    </tr>\n",
       "    <tr>\n",
       "      <th>148095</th>\n",
       "      <td>70759614</td>\n",
       "      <td>Retail Marketing Manager</td>\n",
       "      <td>Our client, one the most innovative taking the...</td>\n",
       "      <td>North West</td>\n",
       "      <td>North West London</td>\n",
       "      <td>NaN</td>\n",
       "      <td>permanent</td>\n",
       "      <td>NaN</td>\n",
       "      <td>PR, Advertising &amp; Marketing Jobs</td>\n",
       "      <td>30k - 40k</td>\n",
       "      <td>35000</td>\n",
       "      <td>simplymarketingjobs.co.uk</td>\n",
       "    </tr>\n",
       "    <tr>\n",
       "      <th>30969</th>\n",
       "      <td>68068843</td>\n",
       "      <td>Dialler Analyst</td>\n",
       "      <td>PACT are pleased to be supporting a well estab...</td>\n",
       "      <td>South Yorkshire Yorkshire</td>\n",
       "      <td>South Yorkshire</td>\n",
       "      <td>NaN</td>\n",
       "      <td>permanent</td>\n",
       "      <td>Pact</td>\n",
       "      <td>Other/General Jobs</td>\n",
       "      <td>20000 - 25000 per annum + Benefits</td>\n",
       "      <td>22500</td>\n",
       "      <td>totaljobs.com</td>\n",
       "    </tr>\n",
       "    <tr>\n",
       "      <th>163848</th>\n",
       "      <td>71227379</td>\n",
       "      <td>Client Development Manager</td>\n",
       "      <td>Affinion International Client Development Mana...</td>\n",
       "      <td>Slough, Berkshire</td>\n",
       "      <td>Slough</td>\n",
       "      <td>full_time</td>\n",
       "      <td>permanent</td>\n",
       "      <td>Affinion International Limited</td>\n",
       "      <td>Accounting &amp; Finance Jobs</td>\n",
       "      <td>40,000 to 45,000 per anuum</td>\n",
       "      <td>42500</td>\n",
       "      <td>fish4.co.uk</td>\n",
       "    </tr>\n",
       "    <tr>\n",
       "      <th>85967</th>\n",
       "      <td>69084010</td>\n",
       "      <td>Shift Leader</td>\n",
       "      <td>My clients who are a medium sized maintenance ...</td>\n",
       "      <td>Reading, Berkshire</td>\n",
       "      <td>Reading</td>\n",
       "      <td>NaN</td>\n",
       "      <td>permanent</td>\n",
       "      <td>Invictus Group</td>\n",
       "      <td>Engineering Jobs</td>\n",
       "      <td>32000 - 35000/annum OT , Training</td>\n",
       "      <td>33500</td>\n",
       "      <td>cv-library.co.uk</td>\n",
       "    </tr>\n",
       "  </tbody>\n",
       "</table>\n",
       "</div>"
      ],
      "text/plain": [
       "              Id                              Title  \\\n",
       "154523  71014022  Regulatory Policy, Energy Markets   \n",
       "148095  70759614           Retail Marketing Manager   \n",
       "30969   68068843                    Dialler Analyst   \n",
       "163848  71227379         Client Development Manager   \n",
       "85967   69084010                       Shift Leader   \n",
       "\n",
       "                                          FullDescription  \\\n",
       "154523  US company launching in London for the first t...   \n",
       "148095  Our client, one the most innovative taking the...   \n",
       "30969   PACT are pleased to be supporting a well estab...   \n",
       "163848  Affinion International Client Development Mana...   \n",
       "85967   My clients who are a medium sized maintenance ...   \n",
       "\n",
       "                      LocationRaw LocationNormalized ContractType  \\\n",
       "154523                     London             London    full_time   \n",
       "148095                 North West  North West London          NaN   \n",
       "30969   South Yorkshire Yorkshire    South Yorkshire          NaN   \n",
       "163848          Slough, Berkshire             Slough    full_time   \n",
       "85967          Reading, Berkshire            Reading          NaN   \n",
       "\n",
       "       ContractTime                         Company  \\\n",
       "154523    permanent                    G2 Legal LTD   \n",
       "148095    permanent                             NaN   \n",
       "30969     permanent                            Pact   \n",
       "163848    permanent  Affinion International Limited   \n",
       "85967     permanent                  Invictus Group   \n",
       "\n",
       "                                Category                           SalaryRaw  \\\n",
       "154523                        Legal Jobs     From 75,000 to 100,000 per year   \n",
       "148095  PR, Advertising & Marketing Jobs                           30k - 40k   \n",
       "30969                 Other/General Jobs  20000 - 25000 per annum + Benefits   \n",
       "163848         Accounting & Finance Jobs          40,000 to 45,000 per anuum   \n",
       "85967                   Engineering Jobs   32000 - 35000/annum OT , Training   \n",
       "\n",
       "        SalaryNormalized                 SourceName  \n",
       "154523             87500               TotallyLegal  \n",
       "148095             35000  simplymarketingjobs.co.uk  \n",
       "30969              22500              totaljobs.com  \n",
       "163848             42500                fish4.co.uk  \n",
       "85967              33500           cv-library.co.uk  "
      ]
     },
     "execution_count": 2,
     "metadata": {},
     "output_type": "execute_result"
    }
   ],
   "source": [
    "#Read files\n",
    "os.chdir('D:\\UT Austin\\Fall\\MIS-284N-Text-Analytics-master')\n",
    "df_raw = pd.read_csv(r'Train_rev1.csv')\n",
    "df_train = df_raw.sample(2500)\n",
    "df_train.head()"
   ]
  },
  {
   "cell_type": "markdown",
   "metadata": {},
   "source": [
    "Parts of speech distribution with and without removal of stopwords"
   ]
  },
  {
   "cell_type": "code",
   "execution_count": 3,
   "metadata": {},
   "outputs": [],
   "source": [
    "df_train = df_train[['Id','FullDescription','SalaryNormalized']]\n",
    "df_train['FullDescription'] = df_train['FullDescription'].map(str.lower)"
   ]
  },
  {
   "cell_type": "code",
   "execution_count": 4,
   "metadata": {},
   "outputs": [
    {
     "data": {
      "text/plain": [
       "{u'.': 27,\n",
       " u'ADJ': 73861,\n",
       " u'ADP': 66773,\n",
       " u'ADV': 16725,\n",
       " u'CONJ': 31811,\n",
       " u'DET': 53638,\n",
       " u'NOUN': 218478,\n",
       " u'NUM': 4877,\n",
       " u'PRON': 22515,\n",
       " u'PRT': 21509,\n",
       " u'VERB': 111067,\n",
       " u'X': 353}"
      ]
     },
     "execution_count": 4,
     "metadata": {},
     "output_type": "execute_result"
    }
   ],
   "source": [
    "#Tag all parts of speech\n",
    "pos_dt = {}\n",
    "\n",
    "#Function to split a job description into words and tag POS\n",
    "def pos_count(desc):\n",
    "    tokens = re.findall('\\w+', desc)\n",
    "    tokenlist = nltk.pos_tag(tokens, tagset='universal')\n",
    "    \n",
    "    for t in tokenlist:\n",
    "        pos = t[1]\n",
    "        if pos in pos_dt:\n",
    "            pos_dt[pos] += 1\n",
    "        else:\n",
    "            pos_dt[pos] = 1\n",
    "    \n",
    "    return desc\n",
    "\n",
    "#Map function\n",
    "df_train['FullDescription'].map(pos_count)\n",
    "\n",
    "pos_dt"
   ]
  },
  {
   "cell_type": "code",
   "execution_count": 5,
   "metadata": {},
   "outputs": [
    {
     "data": {
      "text/plain": [
       "{u'.': 23,\n",
       " u'ADJ': 76142,\n",
       " u'ADP': 6178,\n",
       " u'ADV': 13822,\n",
       " u'CONJ': 516,\n",
       " u'DET': 285,\n",
       " u'NOUN': 211942,\n",
       " u'NUM': 4904,\n",
       " u'PRON': 600,\n",
       " u'PRT': 82,\n",
       " u'VERB': 74508,\n",
       " u'X': 463}"
      ]
     },
     "execution_count": 5,
     "metadata": {},
     "output_type": "execute_result"
    }
   ],
   "source": [
    "#Same as above, but stop words were removed\n",
    "pos_nostop_dt = {}\n",
    "\n",
    "def pos_nostop_count(desc):\n",
    "    tokens = re.findall('\\w+', desc)\n",
    "    filtered_tokens = [w for w in tokens if not w in stop_words]\n",
    "    \n",
    "    tokenlist = nltk.pos_tag(filtered_tokens, tagset='universal')\n",
    "    \n",
    "    for t in tokenlist:\n",
    "        pos = t[1]\n",
    "        if pos in pos_nostop_dt:\n",
    "            pos_nostop_dt[pos] += 1\n",
    "        else:\n",
    "            pos_nostop_dt[pos] = 1\n",
    "    \n",
    "    return desc\n",
    "\n",
    "df_train['FullDescription'].map(pos_nostop_count)\n",
    "\n",
    "pos_nostop_dt"
   ]
  },
  {
   "cell_type": "code",
   "execution_count": 6,
   "metadata": {},
   "outputs": [
    {
     "data": {
      "text/plain": [
       "<matplotlib.axes._subplots.AxesSubplot at 0x44d44e0>"
      ]
     },
     "execution_count": 6,
     "metadata": {},
     "output_type": "execute_result"
    },
    {
     "data": {
      "image/png": "[encoded data removed]",
      "text/plain": [
       "<Figure size 432x288 with 1 Axes>"
      ]
     },
     "metadata": {},
     "output_type": "display_data"
    }
   ],
   "source": [
    "#Top 5 POS still including stop words\n",
    "Series(pos_dt).sort_values(ascending=False).plot(kind='bar')"
   ]
  },
  {
   "cell_type": "code",
   "execution_count": 7,
   "metadata": {},
   "outputs": [
    {
     "data": {
      "text/plain": [
       "<matplotlib.axes._subplots.AxesSubplot at 0x1d403ac8>"
      ]
     },
     "execution_count": 7,
     "metadata": {},
     "output_type": "execute_result"
    },
    {
     "data": {
      "image/png": "[encoded data removed]",
      "text/plain": [
       "<Figure size 432x288 with 1 Axes>"
      ]
     },
     "metadata": {},
     "output_type": "display_data"
    }
   ],
   "source": [
    "#Top 5 POS after removing stop words\n",
    "Series(pos_nostop_dt).sort_values(ascending=False).plot(kind='bar')"
   ]
  },
  {
   "cell_type": "markdown",
   "metadata": {},
   "source": [
    "Nouns make up over 200k words of the roughly 400k in the 2500 job descriptions. \n",
    "\n",
    "The number of verbs decreased by about 40k after removing stop words. Adposition words (ADP) decreased by over 60k when removing stop words because this category contains words such as \"with\" and \"to\". Determiners (DET) decreased from around 60k to barely 200 words because this category contains words such as \"a\" and \"the\"."
   ]
  },
  {
   "cell_type": "code",
   "execution_count": 8,
   "metadata": {},
   "outputs": [],
   "source": [
    "#Concatenate all descriptions into one string and split into words\n",
    "a = df_train['FullDescription'].str.cat(sep = ' ')\n",
    "s = re.findall('\\w+', a)\n",
    "s = Series(s)\n",
    "\n",
    "#Get word counts\n",
    "df_words = DataFrame(s.value_counts())\n",
    "df_words = df_words.reset_index()\n",
    "df_words.columns = ['Word','Counts']"
   ]
  },
  {
   "cell_type": "markdown",
   "metadata": {},
   "source": [
    "## Validating Zipf's Law "
   ]
  },
  {
   "cell_type": "code",
   "execution_count": 9,
   "metadata": {},
   "outputs": [
    {
     "name": "stdout",
     "output_type": "stream",
     "text": [
      "                            OLS Regression Results                            \n",
      "==============================================================================\n",
      "Dep. Variable:                LogRank   R-squared:                       0.982\n",
      "Model:                            OLS   Adj. R-squared:                  0.982\n",
      "Method:                 Least Squares   F-statistic:                 9.857e+05\n",
      "Date:                Wed, 19 Sep 2018   Prob (F-statistic):               0.00\n",
      "Time:                        01:39:11   Log-Likelihood:                 10729.\n",
      "No. Observations:               18167   AIC:                        -2.145e+04\n",
      "Df Residuals:                   18165   BIC:                        -2.144e+04\n",
      "Df Model:                           1                                         \n",
      "Covariance Type:            nonrobust                                         \n",
      "==============================================================================\n",
      "                 coef    std err          t      P>|t|      [0.025      0.975]\n",
      "------------------------------------------------------------------------------\n",
      "Intercept      3.5702      0.005    664.302      0.000       3.560       3.581\n",
      "LogCount      -0.6305      0.001   -992.806      0.000      -0.632      -0.629\n",
      "==============================================================================\n",
      "Omnibus:                    21711.695   Durbin-Watson:                   0.002\n",
      "Prob(Omnibus):                  0.000   Jarque-Bera (JB):          4577990.726\n",
      "Skew:                          -6.197   Prob(JB):                         0.00\n",
      "Kurtosis:                      79.774   Cond. No.                         46.3\n",
      "==============================================================================\n",
      "\n",
      "Warnings:\n",
      "[1] Standard Errors assume that the covariance matrix of the errors is correctly specified.\n"
     ]
    }
   ],
   "source": [
    "#Rank words by count, take log of rank and log of count\n",
    "df_words['Rank'] = df_words['Counts'].rank(ascending=False)\n",
    "constant = df_words.iloc[-1]['Counts']*df_words.iloc[-1]['Rank']\n",
    "df_words['LogCount'] = log(df_words['Counts']/constant)\n",
    "df_words['LogRank'] = log(df_words['Rank'])\n",
    "\n",
    "#Run and plot linear regression on the log-log relationship\n",
    "Y, X = dmatrices('LogRank~LogCount', data=df_words, return_type='dataframe')\n",
    "model = sm.OLS(Y, X)       # Set up the model\n",
    "result = model.fit()       # Fit model (find the intercept and slopes)\n",
    "print (result.summary())"
   ]
  },
  {
   "cell_type": "code",
   "execution_count": 10,
   "metadata": {},
   "outputs": [
    {
     "data": {
      "text/plain": [
       "<matplotlib.legend.Legend at 0x1f45a128>"
      ]
     },
     "execution_count": 10,
     "metadata": {},
     "output_type": "execute_result"
    },
    {
     "data": {
      "image/png": "[encoded data removed]",
      "text/plain": [
       "<Figure size 432x288 with 1 Axes>"
      ]
     },
     "metadata": {},
     "output_type": "display_data"
    }
   ],
   "source": [
    "plot(df_words['LogRank'],df_words['LogCount'], linestyle='-', label='Actual Data')\n",
    "xlabel('LogRank')\n",
    "ylabel('LogCount / Constant')\n",
    "plot(log(constant)-df_words['LogCount']-8,df_words['LogCount'], linestyle='-', label=\"Zipf's Law\")\n",
    "legend(loc='best')"
   ]
  },
  {
   "cell_type": "markdown",
   "metadata": {},
   "source": [
    "After linear regression, the log(count/min count) has a coefficient of -0.6 with respect to log(rank) so our dataset only loosely follows Zipf's law. \n",
    "\n",
    "A large number of words with low frequencies \"flatten\" the curve because the change from word to the next does not exactly follow the inverse-rank stated by Zipf's law."
   ]
  },
  {
   "cell_type": "markdown",
   "metadata": {},
   "source": [
    "## Validating Zipf's law for only top 100 words "
   ]
  },
  {
   "cell_type": "code",
   "execution_count": 11,
   "metadata": {},
   "outputs": [
    {
     "name": "stdout",
     "output_type": "stream",
     "text": [
      "                            OLS Regression Results                            \n",
      "==============================================================================\n",
      "Dep. Variable:                LogRank   R-squared:                       0.989\n",
      "Model:                            OLS   Adj. R-squared:                  0.989\n",
      "Method:                 Least Squares   F-statistic:                     8937.\n",
      "Date:                Wed, 19 Sep 2018   Prob (F-statistic):           4.34e-98\n",
      "Time:                        01:39:11   Log-Likelihood:                 92.270\n",
      "No. Observations:                 100   AIC:                            -180.5\n",
      "Df Residuals:                      98   BIC:                            -175.3\n",
      "Df Model:                           1                                         \n",
      "Covariance Type:            nonrobust                                         \n",
      "==============================================================================\n",
      "                 coef    std err          t      P>|t|      [0.025      0.975]\n",
      "------------------------------------------------------------------------------\n",
      "Intercept      1.4029      0.026     54.894      0.000       1.352       1.454\n",
      "LogCount      -1.0919      0.012    -94.535      0.000      -1.115      -1.069\n",
      "==============================================================================\n",
      "Omnibus:                      113.846   Durbin-Watson:                   0.501\n",
      "Prob(Omnibus):                  0.000   Jarque-Bera (JB):             2826.920\n",
      "Skew:                          -3.582   Prob(JB):                         0.00\n",
      "Kurtosis:                      28.042   Cond. No.                         6.86\n",
      "==============================================================================\n",
      "\n",
      "Warnings:\n",
      "[1] Standard Errors assume that the covariance matrix of the errors is correctly specified.\n"
     ]
    }
   ],
   "source": [
    "#Same regression but using only the top 100 words\n",
    "Y, X = dmatrices('LogRank~LogCount', data=df_words[0:100], return_type='dataframe')\n",
    "model = sm.OLS(Y, X)       # Set up the model\n",
    "result = model.fit()       # Fit model (find the intercept and slopes)\n",
    "print (result.summary())"
   ]
  },
  {
   "cell_type": "markdown",
   "metadata": {},
   "source": [
    "Looking at only the 100 most frequent words results in a rank-count relationship that follows Zipf's law much closer with a coefficient of almost exactly -1"
   ]
  },
  {
   "cell_type": "code",
   "execution_count": 12,
   "metadata": {},
   "outputs": [],
   "source": [
    "df_words.set_index('Word',inplace=True)"
   ]
  },
  {
   "cell_type": "code",
   "execution_count": 13,
   "metadata": {},
   "outputs": [
    {
     "data": {
      "text/plain": [
       "<matplotlib.legend.Legend at 0x1f045cf8>"
      ]
     },
     "execution_count": 13,
     "metadata": {},
     "output_type": "execute_result"
    },
    {
     "data": {
      "image/png": "[encoded data removed]",
      "text/plain": [
       "<Figure size 432x288 with 1 Axes>"
      ]
     },
     "metadata": {},
     "output_type": "display_data"
    }
   ],
   "source": [
    "plot(df_words.iloc[0:100]['LogRank'],df_words.iloc[0:100]['LogCount'], linestyle='-', label='Actual Data')\n",
    "xlabel('LogRank')\n",
    "ylabel('LogCount / Constant')\n",
    "plot(log(constant)-df_words.iloc[0:100]['LogCount']-8,df_words.iloc[0:100]['LogCount'], linestyle='-', label=\"Zipf's Law\")\n",
    "legend(loc='best')"
   ]
  },
  {
   "cell_type": "code",
   "execution_count": 14,
   "metadata": {},
   "outputs": [
    {
     "data": {
      "text/plain": [
       "<matplotlib.legend.Legend at 0x1f1bdb00>"
      ]
     },
     "execution_count": 14,
     "metadata": {},
     "output_type": "execute_result"
    },
    {
     "data": {
      "image/png": "[encoded data removed]",
      "text/plain": [
       "<Figure size 432x288 with 1 Axes>"
      ]
     },
     "metadata": {},
     "output_type": "display_data"
    }
   ],
   "source": [
    "plot(df_words.iloc[0:100]['Rank'],df_words.iloc[0:100]['Counts'], linestyle='-', label='Actual Data')\n",
    "xlabel('Rank')\n",
    "ylabel('Count')\n",
    "\n",
    "df_words['Zipf'] = df_words.iloc[0]['Counts']/df_words['Rank']\n",
    "\n",
    "plot(df_words.iloc[0:100]['Rank'],df_words.iloc[0:100]['Zipf'], linestyle='-', label=\"Zipf's Law\")\n",
    "legend(loc='best')"
   ]
  },
  {
   "cell_type": "markdown",
   "metadata": {},
   "source": [
    "The graph above plots the rank and frequency of the top 100 words in our job descriptions in comparison. The actual word frequencies are higher in the top 100 than Zipf's law would predict, but it follows the general rule that a few words (top 10) have very high frequencies and the counts drop dramatically after the top 20. In the log-log graph, the line for Zipf's law was shifted because of the high intercept value attained from the regression of all 100k+ words."
   ]
  },
  {
   "cell_type": "markdown",
   "metadata": {},
   "source": [
    "After Lemmatization"
   ]
  },
  {
   "cell_type": "code",
   "execution_count": 15,
   "metadata": {},
   "outputs": [],
   "source": [
    "s = re.findall('\\w+', a)\n",
    "s = [w for w in s if not w in stop_words]\n",
    "\n",
    "lemmatizer = WordNetLemmatizer()\n",
    "s = Series(s).map(lemmatizer.lemmatize)"
   ]
  },
  {
   "cell_type": "code",
   "execution_count": 16,
   "metadata": {},
   "outputs": [
    {
     "data": {
      "text/plain": [
       "<matplotlib.axes._subplots.AxesSubplot at 0x1f98d240>"
      ]
     },
     "execution_count": 16,
     "metadata": {},
     "output_type": "execute_result"
    },
    {
     "data": {
      "image/png": "[encoded data removed]",
      "text/plain": [
       "<Figure size 1440x576 with 1 Axes>"
      ]
     },
     "metadata": {},
     "output_type": "display_data"
    }
   ],
   "source": [
    "pylab.rcParams['figure.figsize'] = (20, 8)\n",
    "s.value_counts()[:100].plot(kind='bar')\n"
   ]
  },
  {
   "cell_type": "markdown",
   "metadata": {},
   "source": [
    "Experience is the most common word by far, showing up more than 4,000 times in 2,500 job descriptions"
   ]
  },
  {
   "cell_type": "markdown",
   "metadata": {},
   "source": [
    "# Naive Bayes Classifier on catergorical columns "
   ]
  },
  {
   "cell_type": "code",
   "execution_count": 17,
   "metadata": {},
   "outputs": [],
   "source": [
    "from sklearn.naive_bayes import GaussianNB, BernoulliNB, MultinomialNB"
   ]
  },
  {
   "cell_type": "code",
   "execution_count": 18,
   "metadata": {},
   "outputs": [
    {
     "data": {
      "text/html": [
       "<div>\n",
       "<style scoped>\n",
       "    .dataframe tbody tr th:only-of-type {\n",
       "        vertical-align: middle;\n",
       "    }\n",
       "\n",
       "    .dataframe tbody tr th {\n",
       "        vertical-align: top;\n",
       "    }\n",
       "\n",
       "    .dataframe thead th {\n",
       "        text-align: right;\n",
       "    }\n",
       "</style>\n",
       "<table border=\"1\" class=\"dataframe\">\n",
       "  <thead>\n",
       "    <tr style=\"text-align: right;\">\n",
       "      <th></th>\n",
       "      <th>Id</th>\n",
       "      <th>Title</th>\n",
       "      <th>FullDescription</th>\n",
       "      <th>LocationRaw</th>\n",
       "      <th>LocationNormalized</th>\n",
       "      <th>ContractType</th>\n",
       "      <th>ContractTime</th>\n",
       "      <th>Company</th>\n",
       "      <th>Category</th>\n",
       "      <th>SalaryRaw</th>\n",
       "      <th>SalaryNormalized</th>\n",
       "      <th>SourceName</th>\n",
       "      <th>HighSalary</th>\n",
       "    </tr>\n",
       "  </thead>\n",
       "  <tbody>\n",
       "    <tr>\n",
       "      <th>5816</th>\n",
       "      <td>62044740</td>\n",
       "      <td>Technical Consultant</td>\n",
       "      <td>Our client, a global consulting firm, is curre...</td>\n",
       "      <td>Belfast</td>\n",
       "      <td>Belfast</td>\n",
       "      <td>full_time</td>\n",
       "      <td>permanent</td>\n",
       "      <td>Abacus Professional Recruitment</td>\n",
       "      <td>Consultancy Jobs</td>\n",
       "      <td>50,000 - 60,000</td>\n",
       "      <td>55000</td>\n",
       "      <td>nijobfinder.co.uk</td>\n",
       "      <td>1</td>\n",
       "    </tr>\n",
       "    <tr>\n",
       "      <th>7189</th>\n",
       "      <td>64585451</td>\n",
       "      <td>Technical Services Engineer</td>\n",
       "      <td>&amp;nbspJob Title: Installation Engineer/Technica...</td>\n",
       "      <td>Cheshire</td>\n",
       "      <td>Cheshire</td>\n",
       "      <td>full_time</td>\n",
       "      <td>permanent</td>\n",
       "      <td>OCC Computer Personnel/RI</td>\n",
       "      <td>Engineering Jobs</td>\n",
       "      <td>34500</td>\n",
       "      <td>34500</td>\n",
       "      <td>strike-jobs.co.uk</td>\n",
       "      <td>0</td>\n",
       "    </tr>\n",
       "    <tr>\n",
       "      <th>218619</th>\n",
       "      <td>72331033</td>\n",
       "      <td>JAVA/RESTFUL DEVELOPER  ASYNCHRONOUS PROGRAMMING</td>\n",
       "      <td>Java/ Restful developer  Asynchronous Programm...</td>\n",
       "      <td>Kent</td>\n",
       "      <td>Kent</td>\n",
       "      <td>full_time</td>\n",
       "      <td>permanent</td>\n",
       "      <td>Hatstand Ltd</td>\n",
       "      <td>Teaching Jobs</td>\n",
       "      <td>30000.00 - 40000.00 GBP Annual</td>\n",
       "      <td>35000</td>\n",
       "      <td>jobs.newstatesman.com</td>\n",
       "      <td>0</td>\n",
       "    </tr>\n",
       "    <tr>\n",
       "      <th>37854</th>\n",
       "      <td>68294381</td>\n",
       "      <td>Band 6 Occupational Therapist  Paediatrics</td>\n",
       "      <td>MedicsPro are acting on behalf of our client b...</td>\n",
       "      <td>Isle Of Man</td>\n",
       "      <td>Isle Of Man</td>\n",
       "      <td>full_time</td>\n",
       "      <td>permanent</td>\n",
       "      <td>UKStaffsearch</td>\n",
       "      <td>Admin Jobs</td>\n",
       "      <td>42240 - 84480</td>\n",
       "      <td>63360</td>\n",
       "      <td>ukstaffsearch.com</td>\n",
       "      <td>1</td>\n",
       "    </tr>\n",
       "    <tr>\n",
       "      <th>218605</th>\n",
       "      <td>72330182</td>\n",
       "      <td>Online Marketing Executive  trendy website</td>\n",
       "      <td>Expanding globally, my awarding winning client...</td>\n",
       "      <td>Central London</td>\n",
       "      <td>Central London</td>\n",
       "      <td>full_time</td>\n",
       "      <td>permanent</td>\n",
       "      <td>SPOTLIGHT RECRUITMENT</td>\n",
       "      <td>Travel Jobs</td>\n",
       "      <td>25000 - 28000 per annum + Bonus, holiday + more!</td>\n",
       "      <td>26500</td>\n",
       "      <td>jobs.guardian.co.uk</td>\n",
       "      <td>0</td>\n",
       "    </tr>\n",
       "  </tbody>\n",
       "</table>\n",
       "</div>"
      ],
      "text/plain": [
       "              Id                                             Title  \\\n",
       "5816    62044740                              Technical Consultant   \n",
       "7189    64585451                       Technical Services Engineer   \n",
       "218619  72331033  JAVA/RESTFUL DEVELOPER  ASYNCHRONOUS PROGRAMMING   \n",
       "37854   68294381        Band 6 Occupational Therapist  Paediatrics   \n",
       "218605  72330182        Online Marketing Executive  trendy website   \n",
       "\n",
       "                                          FullDescription     LocationRaw  \\\n",
       "5816    Our client, a global consulting firm, is curre...         Belfast   \n",
       "7189    &nbspJob Title: Installation Engineer/Technica...        Cheshire   \n",
       "218619  Java/ Restful developer  Asynchronous Programm...            Kent   \n",
       "37854   MedicsPro are acting on behalf of our client b...     Isle Of Man   \n",
       "218605  Expanding globally, my awarding winning client...  Central London   \n",
       "\n",
       "       LocationNormalized ContractType ContractTime  \\\n",
       "5816              Belfast    full_time    permanent   \n",
       "7189             Cheshire    full_time    permanent   \n",
       "218619               Kent    full_time    permanent   \n",
       "37854         Isle Of Man    full_time    permanent   \n",
       "218605     Central London    full_time    permanent   \n",
       "\n",
       "                                Company          Category  \\\n",
       "5816    Abacus Professional Recruitment  Consultancy Jobs   \n",
       "7189          OCC Computer Personnel/RI  Engineering Jobs   \n",
       "218619                     Hatstand Ltd     Teaching Jobs   \n",
       "37854                     UKStaffsearch        Admin Jobs   \n",
       "218605            SPOTLIGHT RECRUITMENT       Travel Jobs   \n",
       "\n",
       "                                               SalaryRaw  SalaryNormalized  \\\n",
       "5816                                     50,000 - 60,000             55000   \n",
       "7189                                               34500             34500   \n",
       "218619                    30000.00 - 40000.00 GBP Annual             35000   \n",
       "37854                                      42240 - 84480             63360   \n",
       "218605  25000 - 28000 per annum + Bonus, holiday + more!             26500   \n",
       "\n",
       "                   SourceName  HighSalary  \n",
       "5816        nijobfinder.co.uk           1  \n",
       "7189        strike-jobs.co.uk           0  \n",
       "218619  jobs.newstatesman.com           0  \n",
       "37854       ukstaffsearch.com           1  \n",
       "218605    jobs.guardian.co.uk           0  "
      ]
     },
     "execution_count": 18,
     "metadata": {},
     "output_type": "execute_result"
    }
   ],
   "source": [
    "df_train = df_raw.dropna().sample(2500)\n",
    "cutoff = df_train['SalaryNormalized'].quantile(0.75)\n",
    "\n",
    "df_train['HighSalary'] = 0\n",
    "df_train['HighSalary'][df_train['SalaryNormalized']>cutoff] = 1\n",
    "\n",
    "df_train.head()"
   ]
  },
  {
   "cell_type": "code",
   "execution_count": 19,
   "metadata": {},
   "outputs": [
    {
     "data": {
      "text/html": [
       "<div>\n",
       "<style scoped>\n",
       "    .dataframe tbody tr th:only-of-type {\n",
       "        vertical-align: middle;\n",
       "    }\n",
       "\n",
       "    .dataframe tbody tr th {\n",
       "        vertical-align: top;\n",
       "    }\n",
       "\n",
       "    .dataframe thead th {\n",
       "        text-align: right;\n",
       "    }\n",
       "</style>\n",
       "<table border=\"1\" class=\"dataframe\">\n",
       "  <thead>\n",
       "    <tr style=\"text-align: right;\">\n",
       "      <th></th>\n",
       "      <th>ContractType_full_time</th>\n",
       "      <th>ContractTime_permanent</th>\n",
       "      <th>Category_Accounting &amp; Finance Jobs</th>\n",
       "      <th>Category_Admin Jobs</th>\n",
       "      <th>Category_Charity &amp; Voluntary Jobs</th>\n",
       "      <th>Category_Consultancy Jobs</th>\n",
       "      <th>Category_Creative &amp; Design Jobs</th>\n",
       "      <th>Category_Customer Services Jobs</th>\n",
       "      <th>Category_Domestic help &amp; Cleaning Jobs</th>\n",
       "      <th>Category_Energy, Oil &amp; Gas Jobs</th>\n",
       "      <th>...</th>\n",
       "      <th>Category_PR, Advertising &amp; Marketing Jobs</th>\n",
       "      <th>Category_Property Jobs</th>\n",
       "      <th>Category_Retail Jobs</th>\n",
       "      <th>Category_Sales Jobs</th>\n",
       "      <th>Category_Scientific &amp; QA Jobs</th>\n",
       "      <th>Category_Social work Jobs</th>\n",
       "      <th>Category_Teaching Jobs</th>\n",
       "      <th>Category_Trade &amp; Construction Jobs</th>\n",
       "      <th>ExpensiveCity</th>\n",
       "      <th>HighSalary</th>\n",
       "    </tr>\n",
       "  </thead>\n",
       "  <tbody>\n",
       "    <tr>\n",
       "      <th>5816</th>\n",
       "      <td>1</td>\n",
       "      <td>1</td>\n",
       "      <td>0</td>\n",
       "      <td>0</td>\n",
       "      <td>0</td>\n",
       "      <td>1</td>\n",
       "      <td>0</td>\n",
       "      <td>0</td>\n",
       "      <td>0</td>\n",
       "      <td>0</td>\n",
       "      <td>...</td>\n",
       "      <td>0</td>\n",
       "      <td>0</td>\n",
       "      <td>0</td>\n",
       "      <td>0</td>\n",
       "      <td>0</td>\n",
       "      <td>0</td>\n",
       "      <td>0</td>\n",
       "      <td>0</td>\n",
       "      <td>0</td>\n",
       "      <td>1</td>\n",
       "    </tr>\n",
       "    <tr>\n",
       "      <th>7189</th>\n",
       "      <td>1</td>\n",
       "      <td>1</td>\n",
       "      <td>0</td>\n",
       "      <td>0</td>\n",
       "      <td>0</td>\n",
       "      <td>0</td>\n",
       "      <td>0</td>\n",
       "      <td>0</td>\n",
       "      <td>0</td>\n",
       "      <td>0</td>\n",
       "      <td>...</td>\n",
       "      <td>0</td>\n",
       "      <td>0</td>\n",
       "      <td>0</td>\n",
       "      <td>0</td>\n",
       "      <td>0</td>\n",
       "      <td>0</td>\n",
       "      <td>0</td>\n",
       "      <td>0</td>\n",
       "      <td>0</td>\n",
       "      <td>0</td>\n",
       "    </tr>\n",
       "    <tr>\n",
       "      <th>218619</th>\n",
       "      <td>1</td>\n",
       "      <td>1</td>\n",
       "      <td>0</td>\n",
       "      <td>0</td>\n",
       "      <td>0</td>\n",
       "      <td>0</td>\n",
       "      <td>0</td>\n",
       "      <td>0</td>\n",
       "      <td>0</td>\n",
       "      <td>0</td>\n",
       "      <td>...</td>\n",
       "      <td>0</td>\n",
       "      <td>0</td>\n",
       "      <td>0</td>\n",
       "      <td>0</td>\n",
       "      <td>0</td>\n",
       "      <td>0</td>\n",
       "      <td>1</td>\n",
       "      <td>0</td>\n",
       "      <td>0</td>\n",
       "      <td>0</td>\n",
       "    </tr>\n",
       "    <tr>\n",
       "      <th>37854</th>\n",
       "      <td>1</td>\n",
       "      <td>1</td>\n",
       "      <td>0</td>\n",
       "      <td>1</td>\n",
       "      <td>0</td>\n",
       "      <td>0</td>\n",
       "      <td>0</td>\n",
       "      <td>0</td>\n",
       "      <td>0</td>\n",
       "      <td>0</td>\n",
       "      <td>...</td>\n",
       "      <td>0</td>\n",
       "      <td>0</td>\n",
       "      <td>0</td>\n",
       "      <td>0</td>\n",
       "      <td>0</td>\n",
       "      <td>0</td>\n",
       "      <td>0</td>\n",
       "      <td>0</td>\n",
       "      <td>0</td>\n",
       "      <td>1</td>\n",
       "    </tr>\n",
       "    <tr>\n",
       "      <th>218605</th>\n",
       "      <td>1</td>\n",
       "      <td>1</td>\n",
       "      <td>0</td>\n",
       "      <td>0</td>\n",
       "      <td>0</td>\n",
       "      <td>0</td>\n",
       "      <td>0</td>\n",
       "      <td>0</td>\n",
       "      <td>0</td>\n",
       "      <td>0</td>\n",
       "      <td>...</td>\n",
       "      <td>0</td>\n",
       "      <td>0</td>\n",
       "      <td>0</td>\n",
       "      <td>0</td>\n",
       "      <td>0</td>\n",
       "      <td>0</td>\n",
       "      <td>0</td>\n",
       "      <td>0</td>\n",
       "      <td>1</td>\n",
       "      <td>0</td>\n",
       "    </tr>\n",
       "  </tbody>\n",
       "</table>\n",
       "<p>5 rows × 31 columns</p>\n",
       "</div>"
      ],
      "text/plain": [
       "        ContractType_full_time  ContractTime_permanent  \\\n",
       "5816                         1                       1   \n",
       "7189                         1                       1   \n",
       "218619                       1                       1   \n",
       "37854                        1                       1   \n",
       "218605                       1                       1   \n",
       "\n",
       "        Category_Accounting & Finance Jobs  Category_Admin Jobs  \\\n",
       "5816                                     0                    0   \n",
       "7189                                     0                    0   \n",
       "218619                                   0                    0   \n",
       "37854                                    0                    1   \n",
       "218605                                   0                    0   \n",
       "\n",
       "        Category_Charity & Voluntary Jobs  Category_Consultancy Jobs  \\\n",
       "5816                                    0                          1   \n",
       "7189                                    0                          0   \n",
       "218619                                  0                          0   \n",
       "37854                                   0                          0   \n",
       "218605                                  0                          0   \n",
       "\n",
       "        Category_Creative & Design Jobs  Category_Customer Services Jobs  \\\n",
       "5816                                  0                                0   \n",
       "7189                                  0                                0   \n",
       "218619                                0                                0   \n",
       "37854                                 0                                0   \n",
       "218605                                0                                0   \n",
       "\n",
       "        Category_Domestic help & Cleaning Jobs  \\\n",
       "5816                                         0   \n",
       "7189                                         0   \n",
       "218619                                       0   \n",
       "37854                                        0   \n",
       "218605                                       0   \n",
       "\n",
       "        Category_Energy, Oil & Gas Jobs     ...      \\\n",
       "5816                                  0     ...       \n",
       "7189                                  0     ...       \n",
       "218619                                0     ...       \n",
       "37854                                 0     ...       \n",
       "218605                                0     ...       \n",
       "\n",
       "        Category_PR, Advertising & Marketing Jobs  Category_Property Jobs  \\\n",
       "5816                                            0                       0   \n",
       "7189                                            0                       0   \n",
       "218619                                          0                       0   \n",
       "37854                                           0                       0   \n",
       "218605                                          0                       0   \n",
       "\n",
       "        Category_Retail Jobs  Category_Sales Jobs  \\\n",
       "5816                       0                    0   \n",
       "7189                       0                    0   \n",
       "218619                     0                    0   \n",
       "37854                      0                    0   \n",
       "218605                     0                    0   \n",
       "\n",
       "        Category_Scientific & QA Jobs  Category_Social work Jobs  \\\n",
       "5816                                0                          0   \n",
       "7189                                0                          0   \n",
       "218619                              0                          0   \n",
       "37854                               0                          0   \n",
       "218605                              0                          0   \n",
       "\n",
       "        Category_Teaching Jobs  Category_Trade & Construction Jobs  \\\n",
       "5816                         0                                   0   \n",
       "7189                         0                                   0   \n",
       "218619                       1                                   0   \n",
       "37854                        0                                   0   \n",
       "218605                       0                                   0   \n",
       "\n",
       "        ExpensiveCity  HighSalary  \n",
       "5816                0           1  \n",
       "7189                0           0  \n",
       "218619              0           0  \n",
       "37854               0           1  \n",
       "218605              1           0  \n",
       "\n",
       "[5 rows x 31 columns]"
      ]
     },
     "execution_count": 19,
     "metadata": {},
     "output_type": "execute_result"
    }
   ],
   "source": [
    "df_nbtrain = pd.get_dummies(df_train[['ContractType','ContractTime','Category']])\n",
    "\n",
    "#Cities where avg rent is >= 20% of avg income\n",
    "high_cities = ['London', 'Central London','The City','Brighton','Edinburgh','Bristol','Southampton','Portsmouth','Exeter'\\\n",
    "                 ,'Cardiff', 'Manchester', 'Birmingham', 'Leeds', 'Aberdeen', 'Glasgow', 'Newcastle', 'Sheffield', 'Liverpool', 'Hull']\n",
    "\n",
    "a = df_train['LocationNormalized']\n",
    "b = []\n",
    "\n",
    "#Create dummy variable for expensive cities\n",
    "for i in range(len(a)):\n",
    "    if a.iloc[i] in high_cities: \n",
    "        b.append(1)\n",
    "    else: b.append(0)\n",
    "\n",
    "\n",
    "df_nbtrain['ExpensiveCity'] = b\n",
    "df_nbtrain['HighSalary'] = df_train['HighSalary']\n",
    "\n",
    "#Drop extra dummies\n",
    "df_nbtrain = df_nbtrain.drop(['ContractType_part_time','ContractTime_contract','Category_Travel Jobs'], axis=1)\n",
    "df_nbtrain.head()\n"
   ]
  },
  {
   "cell_type": "code",
   "execution_count": 20,
   "metadata": {},
   "outputs": [],
   "source": [
    "from sklearn import naive_bayes\n",
    "from sklearn import model_selection\n",
    "from sklearn.model_selection import train_test_split\n",
    "from patsy import dmatrices\n",
    "from sklearn import metrics"
   ]
  },
  {
   "cell_type": "code",
   "execution_count": 21,
   "metadata": {},
   "outputs": [
    {
     "name": "stdout",
     "output_type": "stream",
     "text": [
      "Training Accuracy\n",
      "0.768\n",
      " \n",
      "Test Accuracy\n",
      "0.7493333333333333\n",
      " \n",
      "Baseline Accuracy\n",
      "0.7493333333333334\n",
      " \n",
      "[[562   0]\n",
      " [188   0]]\n"
     ]
    }
   ],
   "source": [
    "dummy_column_names = list(df_nbtrain.columns.values)[:-1]\n",
    "\n",
    "formula = 'HighSalary ~ 0 + {}'.format(' + '.join(['Q(\"{}\")'.format(x) for x in dummy_column_names]))\n",
    "\n",
    "nbtrain, nbtest = train_test_split(df_nbtrain, test_size=0.3)\n",
    "    \n",
    "#Training Sets\n",
    "Ytrain, xtrain = dmatrices(formula, nbtrain, return_type='dataframe')\n",
    "ytrain = Ytrain['HighSalary'].values\n",
    "\n",
    "#Testing Set\n",
    "Ytest, xtest = dmatrices(formula, nbtest, return_type='dataframe')\n",
    "ytest = Ytest['HighSalary'].values\n",
    "\n",
    "model = naive_bayes.MultinomialNB()\n",
    "model.fit(xtrain, ytrain)\n",
    "\n",
    "prediction_train = model.predict(xtrain)\n",
    "print (\"Training Accuracy\")\n",
    "print (metrics.accuracy_score(ytrain, prediction_train))\n",
    "\n",
    "print (\" \")\n",
    "print (\"Test Accuracy\")\n",
    "prediction_test = model.predict(xtest)\n",
    "print (metrics.accuracy_score(ytest, prediction_test))\n",
    "\n",
    "#Baseline accuracy = if we guessed 'No' for all of them\n",
    "print (\" \")\n",
    "print (\"Baseline Accuracy\")\n",
    "print (1-ytest.mean())\n",
    "\n",
    "#Row 1 is all the ones low salary\n",
    "#Column 1 is all the ones predicted low salary\n",
    "print(' ')\n",
    "print (metrics.confusion_matrix(ytest, prediction_test))"
   ]
  },
  {
   "cell_type": "markdown",
   "metadata": {},
   "source": [
    "A Binomial Naive Bayes model using every variable except the job description essentially predicts a \"Low Salary\" for every job and underperforms even the baseline accuracy."
   ]
  },
  {
   "cell_type": "markdown",
   "metadata": {},
   "source": [
    "# Naive Bayes on 'Job Description'"
   ]
  },
  {
   "cell_type": "code",
   "execution_count": 22,
   "metadata": {},
   "outputs": [],
   "source": [
    "from sklearn.model_selection import train_test_split\n",
    "from sklearn.feature_extraction.text import CountVectorizer\n",
    "from sklearn.feature_extraction.text import TfidfTransformer\n",
    "from sklearn.naive_bayes import MultinomialNB\n",
    "from sklearn import metrics\n",
    "from operator import itemgetter\n",
    "from sklearn.metrics import classification_report\n",
    "import csv\n",
    "import os"
   ]
  },
  {
   "cell_type": "code",
   "execution_count": 23,
   "metadata": {},
   "outputs": [],
   "source": [
    "df_text = df_train[['FullDescription','HighSalary']]\n",
    "df_text['FullDescription'] = df_text['FullDescription'].dropna().str.lower().str.replace('\\d+', '')\\\n",
    ".map(lambda x:re.findall('\\w+',x)).map(lambda x:' '.join([i for i in x if i not in stop_words \\\n",
    "                                                          and i not in string.punctuation]))"
   ]
  },
  {
   "cell_type": "code",
   "execution_count": 24,
   "metadata": {},
   "outputs": [],
   "source": [
    "#Split Train and Test sets\n",
    "#Split descriptions from salary range\n",
    "X_train, X_test, y_train, y_test = train_test_split(df_text['FullDescription'],\n",
    "                                                    df_text['HighSalary'],\n",
    "                                                    test_size=0.3, random_state=1)"
   ]
  },
  {
   "cell_type": "code",
   "execution_count": 25,
   "metadata": {},
   "outputs": [],
   "source": [
    "#Like the document term matrix, but filled with 1's and 0's instead of TFIDF scores\n",
    "count_vect = CountVectorizer()\n",
    "X_train_counts = count_vect.fit_transform(X_train)\n",
    "X_test_counts = count_vect.transform(X_test)\n",
    "\n",
    "#Fit model on train data\n",
    "clf = BernoulliNB().fit(X_train_counts, y_train)\n",
    "\n",
    "#Predict using X_test data\n",
    "prediction = clf.predict(X_test_counts)"
   ]
  },
  {
   "cell_type": "code",
   "execution_count": 26,
   "metadata": {},
   "outputs": [
    {
     "name": "stdout",
     "output_type": "stream",
     "text": [
      "Prediction Accuracy\n",
      "0.7973333333333333\n",
      "  \n",
      "Baseline Accuracy\n",
      "0.76\n"
     ]
    }
   ],
   "source": [
    "#Percent correct overall\n",
    "print ('Prediction Accuracy')\n",
    "print (metrics.accuracy_score(y_test, prediction))\n",
    "print('  ')\n",
    "#Baseline accuracy = if we guessed 'No' for all of them\n",
    "print ('Baseline Accuracy')\n",
    "print (1-y_test.mean())"
   ]
  },
  {
   "cell_type": "code",
   "execution_count": 27,
   "metadata": {},
   "outputs": [
    {
     "data": {
      "text/plain": [
       "array([[529,  41],\n",
       "       [111,  69]], dtype=int64)"
      ]
     },
     "execution_count": 27,
     "metadata": {},
     "output_type": "execute_result"
    }
   ],
   "source": [
    "#Row 1 is all the ones low salary\n",
    "#Column 1 is all the ones predicted low salary\n",
    "metrics.confusion_matrix(y_test, prediction)"
   ]
  },
  {
   "cell_type": "markdown",
   "metadata": {
    "collapsed": true
   },
   "source": [
    "Accuracy is high on the Low salary jobs, but below 50% on the high salary jobs."
   ]
  },
  {
   "cell_type": "markdown",
   "metadata": {},
   "source": [
    "# Most Indicative Features"
   ]
  },
  {
   "cell_type": "code",
   "execution_count": 28,
   "metadata": {},
   "outputs": [
    {
     "data": {
      "text/plain": [
       "teachers    3.388780\n",
       "cycles      3.111008\n",
       "ca          2.956857\n",
       "ofsted      2.912440\n",
       "teach       2.877954\n",
       "cfo         2.774535\n",
       "underpin    2.774535\n",
       "cognos      2.774535\n",
       "ccg         2.774535\n",
       "ssrs        2.774535\n",
       "dtype: float64"
      ]
     },
     "execution_count": 28,
     "metadata": {},
     "output_type": "execute_result"
    }
   ],
   "source": [
    "commonimp = abs(clf.feature_log_prob_[1]-clf.feature_log_prob_[0])\n",
    "\n",
    "topcommon = Series(commonimp,index=count_vect.get_feature_names()).sort_values(ascending=False)\n",
    "topcommon[0:10]"
   ]
  },
  {
   "cell_type": "markdown",
   "metadata": {},
   "source": [
    "The words above are the most indicative in our model for predicting salary, either high or low."
   ]
  },
  {
   "cell_type": "code",
   "execution_count": 29,
   "metadata": {
    "scrolled": true
   },
   "outputs": [
    {
     "data": {
      "text/plain": [
       "cycles       3.111008\n",
       "ca           2.956857\n",
       "underpin     2.774535\n",
       "mrics        2.774535\n",
       "footprint    2.774535\n",
       "ccg          2.774535\n",
       "cognos       2.774535\n",
       "ssrs         2.774535\n",
       "fmea         2.774535\n",
       "rics         2.774535\n",
       "dtype: float64"
      ]
     },
     "execution_count": 29,
     "metadata": {},
     "output_type": "execute_result"
    }
   ],
   "source": [
    "highimp = clf.feature_log_prob_[1]-clf.feature_log_prob_[0]\n",
    "\n",
    "tophigh = Series(highimp,index=count_vect.get_feature_names()).sort_values(ascending=False)\n",
    "tophigh[0:10]"
   ]
  },
  {
   "cell_type": "markdown",
   "metadata": {},
   "source": [
    "The words above are the top 10 most indicative of high salary jobs in this model. They seem to describe specific high-level positions that involve things such as negotiations and strategic decisions."
   ]
  },
  {
   "cell_type": "code",
   "execution_count": 30,
   "metadata": {},
   "outputs": [
    {
     "data": {
      "text/plain": [
       "maths        -2.472489\n",
       "nvq          -2.548475\n",
       "qts          -2.548475\n",
       "curriculum   -2.619092\n",
       "ks           -2.641565\n",
       "teacher      -2.692117\n",
       "classroom    -2.746926\n",
       "teach        -2.877954\n",
       "ofsted       -2.912440\n",
       "teachers     -3.388780\n",
       "dtype: float64"
      ]
     },
     "execution_count": 30,
     "metadata": {},
     "output_type": "execute_result"
    }
   ],
   "source": [
    "lowimp = clf.feature_log_prob_[1]-clf.feature_log_prob_[0]\n",
    "\n",
    "toplow = Series(highimp,index=count_vect.get_feature_names()).sort_values(ascending=False)\n",
    "toplow[-10:]"
   ]
  },
  {
   "cell_type": "markdown",
   "metadata": {
    "collapsed": true
   },
   "source": [
    "The words above are the top 10 most indicative of low salary jobs in this model. They seem to center around school and teaching positions, with the exception of technicians which are commonly also low-level jobs."
   ]
  },
  {
   "cell_type": "markdown",
   "metadata": {},
   "source": [
    "# Naive Bayes on Hybrid model"
   ]
  },
  {
   "cell_type": "markdown",
   "metadata": {},
   "source": [
    "Train a “hybrid” model to predict high/low salary using both numeric and text data. Show the accuracy of the model. "
   ]
  },
  {
   "cell_type": "code",
   "execution_count": 31,
   "metadata": {},
   "outputs": [],
   "source": [
    "df_hybrid = df_text.join(df_nbtrain.drop('HighSalary',axis=1))\n",
    "\n",
    "X_htrain, X_htest, y_htrain, y_htest = train_test_split(df_hybrid.drop('HighSalary',axis=1),\n",
    "                                                    df_hybrid['HighSalary'],\n",
    "                                                    test_size=0.3, random_state=1)"
   ]
  },
  {
   "cell_type": "code",
   "execution_count": 32,
   "metadata": {},
   "outputs": [],
   "source": [
    "X_htrain_words = count_vect.fit_transform(X_htrain['FullDescription'])\n",
    "X_htrain_counts = DataFrame(X_htrain_words.todense()).join(X_htrain.drop('FullDescription',axis=1).reset_index())"
   ]
  },
  {
   "cell_type": "code",
   "execution_count": 33,
   "metadata": {},
   "outputs": [],
   "source": [
    "X_htest_words = count_vect.transform(X_htest['FullDescription'])\n",
    "X_htest_counts = DataFrame(X_htest_words.todense()).join(X_htest.drop('FullDescription',axis=1).reset_index())"
   ]
  },
  {
   "cell_type": "code",
   "execution_count": 34,
   "metadata": {},
   "outputs": [
    {
     "name": "stdout",
     "output_type": "stream",
     "text": [
      "Prediction Accuracy\n",
      "0.7933333333333333\n",
      "  \n",
      "Baseline Accuracy\n",
      "0.76\n"
     ]
    }
   ],
   "source": [
    "#Fit model on train data\n",
    "hybrid_model = BernoulliNB().fit(X_htrain_counts, y_htrain)\n",
    "\n",
    "#Predict using X_test data\n",
    "hybrid_prediction = hybrid_model.predict(X_htest_counts)\n",
    "\n",
    "#Percent correct overall\n",
    "print ('Prediction Accuracy')\n",
    "print (metrics.accuracy_score(y_htest, hybrid_prediction))\n",
    "print('  ')\n",
    "#Baseline accuracy = if we guessed 'No' for all of them\n",
    "print ('Baseline Accuracy')\n",
    "print (1-y_htest.mean())"
   ]
  },
  {
   "cell_type": "code",
   "execution_count": 35,
   "metadata": {},
   "outputs": [
    {
     "data": {
      "text/plain": [
       "array([[526,  44],\n",
       "       [111,  69]], dtype=int64)"
      ]
     },
     "execution_count": 35,
     "metadata": {},
     "output_type": "execute_result"
    }
   ],
   "source": [
    "#Row 1 is all the ones low salary\n",
    "#Column 1 is all the ones predicted low salary\n",
    "metrics.confusion_matrix(y_htest, hybrid_prediction)"
   ]
  },
  {
   "cell_type": "markdown",
   "metadata": {},
   "source": [
    "Even though accuracy increased for \"High Salary\" jobs, it decreased when predicting the \"Low Salary\" jobs, which make up 75% of the data. This is not surprising because we saw earlier that the dummy variables such as job category have little to no predictive power."
   ]
  }
 ],
 "metadata": {
  "kernelspec": {
   "display_name": "Python 2",
   "language": "python",
   "name": "python2"
  },
  "language_info": {
   "codemirror_mode": {
    "name": "ipython",
    "version": 2
   },
   "file_extension": ".py",
   "mimetype": "text/x-python",
   "name": "python",
   "nbconvert_exporter": "python",
   "pygments_lexer": "ipython2",
   "version": "2.7.15"
  }
 },
 "nbformat": 4,
 "nbformat_minor": 2
}
